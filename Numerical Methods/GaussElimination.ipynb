{
 "cells": [
  {
   "cell_type": "markdown",
   "metadata": {},
   "source": [
    "# Gauss Elimination\n",
    "1. The Elimination Stage\n",
    "2. Back Substitution"
   ]
  },
  {
   "cell_type": "markdown",
   "metadata": {},
   "source": [
    "## 1. The Elimination Stage"
   ]
  },
  {
   "cell_type": "code",
   "execution_count": 4,
   "metadata": {},
   "outputs": [],
   "source": [
    "import numpy as np\n"
   ]
  },
  {
   "cell_type": "code",
   "execution_count": 5,
   "metadata": {},
   "outputs": [
    {
     "name": "stderr",
     "output_type": "stream",
     "text": [
      "<ipython-input-5-daeb4bf5bfe5>:23: RuntimeWarning: invalid value encountered in double_scalars\n",
      "  factor = a[k,k] / a[i,k]\n"
     ]
    }
   ],
   "source": [
    "# Coefficients of Linear Equation\n",
    "\n",
    "a = np.array([\n",
    "[0, 7, -1, 3, 1],\n",
    "[2, 3, 4, 1, 7],\n",
    "[6, 2, 0, 2, -1],\n",
    "[2, 1, 2, 0, 2],\n",
    "[3, 4, 1, -2, 1]\n",
    "], float)\n",
    "\n",
    "# Constraint Vector of Linear Equation\n",
    "\n",
    "b = np.array([[5],[7],[2],[3],[4]], float)\n",
    "n = len(b)\n",
    "x = np.zeros(n, float)\n",
    "\n",
    "# Elimination\n",
    "\n",
    "# k --> Fixed Rows\n",
    "\n",
    "for k in range(n-1):\n",
    "\n",
    "    # To avoid nan (division by zero)\n",
    "    if a[k,k] == 0:\n",
    "        # Swapping rows so that multiplication of zero everywhere is avoided\n",
    "        for j in range (n):\n",
    "            a[k,j], a[k+1, j] = a[k+1, j], a[k,j]\n",
    "        b[k], b[k+1] = b[k+1], b[k]\n",
    "\n",
    "    for i in range (k+1, n):\n",
    "        # To avoid nan (division by zero)\n",
    "        if a[i,k] == 0: \n",
    "            continue\n",
    "        factor = a[k,k] / a[i,k]\n",
    "        b[i] = b[k] - (factor * b[i])\n",
    "        for j in range (k, n):\n",
    "            a[i,j] = a[k,j] - (factor * a[i,j])\n",
    "\n",
    "\n",
    "# print(a)\n",
    "# print(b)"
   ]
  },
  {
   "cell_type": "markdown",
   "metadata": {},
   "source": [
    "# 2. The Back Substitution\n",
    "\n",
    "\n"
   ]
  },
  {
   "cell_type": "markdown",
   "metadata": {},
   "source": []
  },
  {
   "cell_type": "code",
   "execution_count": 6,
   "metadata": {},
   "outputs": [
    {
     "name": "stdout",
     "output_type": "stream",
     "text": [
      "The Solution of the system :\n",
      "[nan nan nan nan nan]\n"
     ]
    }
   ],
   "source": [
    "x[n-1] = b[n-1] / a[n-1, n-1]\n",
    "\n",
    "for i in range(n-2, -1, -1):\n",
    "    terms = 0\n",
    "    for j in range (i+1, n):\n",
    "        terms +=a[i,j]*x[j]\n",
    "    x[i] = (b[i] - terms)/a[i,i]\n",
    "\n",
    "print('The Solution of the system :')\n",
    "print(x)"
   ]
  }
 ],
 "metadata": {
  "interpreter": {
   "hash": "b3ba2566441a7c06988d0923437866b63cedc61552a5af99d1f4fb67d367b25f"
  },
  "kernelspec": {
   "display_name": "Python 3.8.5 64-bit ('base': conda)",
   "name": "python3"
  },
  "language_info": {
   "codemirror_mode": {
    "name": "ipython",
    "version": 3
   },
   "file_extension": ".py",
   "mimetype": "text/x-python",
   "name": "python",
   "nbconvert_exporter": "python",
   "pygments_lexer": "ipython3",
   "version": "3.8.5"
  },
  "orig_nbformat": 4
 },
 "nbformat": 4,
 "nbformat_minor": 2
}
