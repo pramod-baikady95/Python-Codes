{
 "cells": [
  {
   "cell_type": "markdown",
   "source": [
    "# Gauss Elimination\r\n",
    "1. The Elimination Stage\r\n",
    "2. Back Substitution"
   ],
   "metadata": {}
  },
  {
   "cell_type": "markdown",
   "source": [
    "## 1. The Elimination Stage"
   ],
   "metadata": {}
  },
  {
   "cell_type": "code",
   "execution_count": 2,
   "source": [
    "import numpy as np\r\n"
   ],
   "outputs": [],
   "metadata": {}
  },
  {
   "cell_type": "code",
   "execution_count": 3,
   "source": [
    "# Coefficients of Linear Equation\r\n",
    "\r\n",
    "a = np.array([\r\n",
    "[2, 7, -1, 3, 1],\r\n",
    "[2, 3, 4, 1, 7],\r\n",
    "[6, 2, -3, 2, -1],\r\n",
    "[2, 1, 2, -1, 2],\r\n",
    "[3, 4, 1, -2, 1]\r\n",
    "], float)\r\n",
    "\r\n",
    "# Constraint Vector of Linear Equation\r\n",
    "\r\n",
    "b = np.array([[5],[7],[2],[3],[4]], float)\r\n",
    "n = len(b)\r\n",
    "x = np.zeros(n, float)\r\n",
    "\r\n",
    "# Elimination\r\n",
    "\r\n",
    "# k --> Fixed Rows\r\n",
    "\r\n",
    "for k in range(n-1):\r\n",
    "    for i in range (k+1, n):\r\n",
    "        factor = a[k,k] / a[i,k]\r\n",
    "        b[i] = b[k] - (factor * b[i])\r\n",
    "        for j in range (k, n):\r\n",
    "            a[i,j] = a[k,j] - (factor * a[i,j])\r\n",
    "\r\n",
    "\r\n",
    "print(a)\r\n",
    "print(b)"
   ],
   "outputs": [
    {
     "output_type": "stream",
     "name": "stdout",
     "text": [
      "[[ 2.          7.         -1.          3.          1.        ]\n",
      " [ 0.          4.         -5.          2.         -6.        ]\n",
      " [ 0.          0.         -5.          0.52631579 -6.84210526]\n",
      " [ 0.          0.          0.          1.6374269   2.04678363]\n",
      " [ 0.          0.          0.          0.          0.95890411]]\n",
      "[[ 5.        ]\n",
      " [-2.        ]\n",
      " [-4.73684211]\n",
      " [ 0.81871345]\n",
      " [ 0.2130898 ]]\n"
     ]
    }
   ],
   "metadata": {}
  },
  {
   "cell_type": "code",
   "execution_count": null,
   "source": [
    "\r\n",
    "\r\n",
    "\r\n"
   ],
   "outputs": [],
   "metadata": {}
  }
 ],
 "metadata": {
  "orig_nbformat": 4,
  "language_info": {
   "name": "python",
   "version": "3.8.5",
   "mimetype": "text/x-python",
   "codemirror_mode": {
    "name": "ipython",
    "version": 3
   },
   "pygments_lexer": "ipython3",
   "nbconvert_exporter": "python",
   "file_extension": ".py"
  },
  "kernelspec": {
   "name": "python3",
   "display_name": "Python 3.8.5 64-bit ('base': conda)"
  },
  "interpreter": {
   "hash": "b3ba2566441a7c06988d0923437866b63cedc61552a5af99d1f4fb67d367b25f"
  }
 },
 "nbformat": 4,
 "nbformat_minor": 2
}